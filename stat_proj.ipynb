{
 "cells": [
  {
   "cell_type": "code",
   "execution_count": 32,
   "metadata": {},
   "outputs": [
    {
     "name": "stdout",
     "output_type": "stream",
     "text": [
      "12486\n"
     ]
    }
   ],
   "source": [
    "\n",
    "import pandas as pd\n",
    "games = pd.read_csv('games.csv')\n",
    "plays = pd.read_csv('plays.csv')\n",
    "print(plays.shape[0])"
   ]
  },
  {
   "cell_type": "code",
   "execution_count": 33,
   "metadata": {},
   "outputs": [],
   "source": [
    "\n",
    "\n",
    "team_dict = {'Team': [], 'pass_yardage' : [], 'total_pass_plays' : [], 'total_run_plays': [], \n",
    "             'run_yardage': [], 'total_yardage': [], 'pct_run' : [], 'total_plays' : [], 'penalty_yards' : [], 'points' : [], 'wins': []}\n",
    "\n",
    "#First, populate the teams using games.csv: \n",
    "\n",
    "for i in range(0, games.shape[0]): \n",
    "    if games['homeTeamAbbr'][i] not in team_dict['Team']: \n",
    "        team_dict['Team'].append(games['homeTeamAbbr'][i])\n",
    "    if games['visitorTeamAbbr'][i] not in team_dict['Team']: \n",
    "        team_dict['Team'].append(games['visitorTeamAbbr'][i])\n",
    "\n",
    "## Map to quickly sort through team_dict and add easier \n",
    "team_map = dict()\n",
    "for i in range(len(team_dict['Team'])): \n",
    "    team_map[team_dict['Team'][i]] =  i\n",
    "    "
   ]
  },
  {
   "cell_type": "code",
   "execution_count": 34,
   "metadata": {},
   "outputs": [],
   "source": [
    "## zero-initialize all the arrays \n",
    "for i in range(32): \n",
    "    team_dict['pass_yardage'].append(0)\n",
    "    team_dict['run_yardage'].append(0)\n",
    "    team_dict['total_yardage'].append(0)\n",
    "    team_dict['total_pass_plays'].append(0)\n",
    "    team_dict['total_run_plays'].append(0)\n",
    "    team_dict['penalty_yards'].append(0)\n",
    "    team_dict['points'].append(0)\n",
    "    team_dict['wins'].append(0)"
   ]
  },
  {
   "cell_type": "code",
   "execution_count": 35,
   "metadata": {},
   "outputs": [],
   "source": [
    "#iterate and add yardage/plays \n",
    "\n",
    "for i in range(0, plays.shape[0]): \n",
    "    team = plays['possessionTeam'][i]\n",
    "    x = team_map[team]\n",
    "    penalty_yards = plays['playResult'][i] - plays['prePenaltyPlayResult'][i]\n",
    "    team_dict['penalty_yards'][x] += penalty_yards\n",
    "    if plays['passResult'][i] == \"C\": \n",
    "        team_dict['total_pass_plays'][x] += 1 \n",
    "        yardage = int(plays['prePenaltyPlayResult'][i])\n",
    "        team_dict['total_yardage'][x] += yardage\n",
    "        team_dict['pass_yardage'][x] += yardage\n",
    "## Categorizing pass plays that scramble and turn into runs as runs, can change \n",
    "    else: \n",
    "        team_dict['total_run_plays'][x] += 1 \n",
    "        yardage = int(plays['prePenaltyPlayResult'][i])\n",
    "        team_dict['total_yardage'][x] += yardage\n",
    "        team_dict['run_yardage'][x] += yardage\n",
    "\n",
    "\n",
    "#Adding in points scored from games.csv \n",
    "for i in range(0, games.shape[0]):\n",
    "    team_dict['points'][team_map[games['homeTeamAbbr'][i]]] += games['homeFinalScore'][i]\n",
    "    team_dict['points'][team_map[games['visitorTeamAbbr'][i]]] += games['visitorFinalScore'][i]\n",
    "    if games['homeFinalScore'][i] > games['visitorFinalScore'][i]: \n",
    "        team_dict['wins'][team_map[games['homeTeamAbbr'][i]]] += 1\n",
    "    elif games['visitorFinalScore'][i] > games['homeFinalScore'][i]: \n",
    "        team_dict['wins'][team_map[games['visitorTeamAbbr'][i]]] += 1"
   ]
  },
  {
   "cell_type": "code",
   "execution_count": 36,
   "metadata": {},
   "outputs": [],
   "source": [
    "#Calculate pct_run \n",
    "for i in range(32): \n",
    "    total_plays = team_dict['total_run_plays'][i] + team_dict['total_pass_plays'][i]\n",
    "    if total_plays == 0: \\\n",
    "        team_dict['pct_run'].append(0)\n",
    "    else: \n",
    "        team_dict['pct_run'].append( team_dict['total_run_plays'][i]  / total_plays)\n"
   ]
  },
  {
   "cell_type": "code",
   "execution_count": 37,
   "metadata": {},
   "outputs": [],
   "source": [
    "\n",
    "#Calculate total plays \n",
    "for i in range(32): \n",
    "    team_dict['total_plays'].append(team_dict['total_pass_plays'][i] + team_dict['total_run_plays'][i])"
   ]
  },
  {
   "cell_type": "code",
   "execution_count": 38,
   "metadata": {},
   "outputs": [],
   "source": [
    "team_df = pd.DataFrame(team_dict)\n",
    "team_df.to_csv('stat202.csv')"
   ]
  }
 ],
 "metadata": {
  "kernelspec": {
   "display_name": "Python 3",
   "language": "python",
   "name": "python3"
  },
  "language_info": {
   "codemirror_mode": {
    "name": "ipython",
    "version": 3
   },
   "file_extension": ".py",
   "mimetype": "text/x-python",
   "name": "python",
   "nbconvert_exporter": "python",
   "pygments_lexer": "ipython3",
   "version": "3.11.4"
  }
 },
 "nbformat": 4,
 "nbformat_minor": 2
}
